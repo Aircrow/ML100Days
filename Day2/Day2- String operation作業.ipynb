{
 "cells": [
  {
   "cell_type": "markdown",
   "metadata": {},
   "source": [
    "# 作業目標：運用課程所學，操作字串達到預期輸出"
   ]
  },
  {
   "cell_type": "markdown",
   "metadata": {},
   "source": [
    "---"
   ]
  },
  {
   "cell_type": "markdown",
   "metadata": {},
   "source": [
    "### isnumeric(), isdigit(), isdecimal() 各有幾個"
   ]
  },
  {
   "cell_type": "code",
   "execution_count": 1,
   "metadata": {},
   "outputs": [],
   "source": [
    "test_string = ['5.9', '30', '½', '³', '⑬']"
   ]
  },
  {
   "cell_type": "code",
   "execution_count": 2,
   "metadata": {},
   "outputs": [],
   "source": [
    "def spam(s, isnumeric_count, isdigit_count, isdecimal_count):\n",
    "    isnumeric_count = 0\n",
    "    isdigit_count = 0\n",
    "    isdecimal_count = 0\n",
    "    \n",
    "    for attr in ['isnumeric', 'isdecimal', 'isdigit']:\n",
    "        for i in s:\n",
    "            if getattr(i,attr)() == True:\n",
    "                if attr == 'isnumeric':\n",
    "                    isnumeric_count += 1\n",
    "                elif attr == 'isdecimal':\n",
    "                    isdigit_count += 1\n",
    "                else:\n",
    "                    isdecimal_count += 1"
   ]
  },
  {
   "cell_type": "code",
   "execution_count": 4,
   "metadata": {},
   "outputs": [
    {
     "name": "stdout",
     "output_type": "stream",
     "text": [
      "isnumeric_count: 0\n",
      "isdigit_count: 0\n",
      "isdecimal_count: 0\n"
     ]
    }
   ],
   "source": [
    "isnumeric_count = 0\n",
    "isdigit_count = 0\n",
    "isdecimal_count = 0\n",
    "\n",
    "spam(test_string,isnumeric_count, isdigit_count, isdecimal_count)\n",
    "\n",
    "print('isnumeric_count: {}'.format(isnumeric_count))     \n",
    "print('isdigit_count: {}'.format(isdigit_count))     \n",
    "print('isdecimal_count: {}'.format(isdecimal_count))"
   ]
  },
  {
   "cell_type": "markdown",
   "metadata": {},
   "source": [
    "---"
   ]
  },
  {
   "cell_type": "markdown",
   "metadata": {},
   "source": [
    "## 運用formatting 技巧 output\n",
    "    * Accuracy: 98.13%, Recall: 94.88%, Precision: 96.29%"
   ]
  },
  {
   "cell_type": "code",
   "execution_count": 95,
   "metadata": {},
   "outputs": [],
   "source": [
    "accuracy = 98.129393\n",
    "recall =   94.879583\n",
    "precision =96.294821"
   ]
  },
  {
   "cell_type": "code",
   "execution_count": 97,
   "metadata": {},
   "outputs": [
    {
     "name": "stdout",
     "output_type": "stream",
     "text": [
      "練習部分\n",
      "Accuracy: 98.13% Recall: 94.88% Precision: 96.29%\n"
     ]
    }
   ],
   "source": [
    "print('練習部分')\n",
    "# print('Accuracy:','%.2f'%(accuracy),'%')\n",
    "# print('Accuracy:','{:.2f}%'.format(accuracy))\n",
    "\n",
    "# print('recall:','%.2f'%(recall))\n",
    "# print('Recall:','{:.2f}%'.format(recall))\n",
    "\n",
    "# print('precision:','%.2f'%(precision))\n",
    "# print('Precision:','{:.2f}%'.format(precision))\n",
    "\n",
    "print('Accuracy:','{:.2f}%'.format(accuracy) , 'Recall:','{:.2f}%'.format(recall) , 'Precision:','{:.2f}%'.format(precision))"
   ]
  },
  {
   "cell_type": "code",
   "execution_count": 98,
   "metadata": {},
   "outputs": [],
   "source": [
    "accuracy = 0.98129393\n",
    "recall =   0.94879583\n",
    "precision =0.96294821"
   ]
  },
  {
   "cell_type": "code",
   "execution_count": 99,
   "metadata": {},
   "outputs": [
    {
     "name": "stdout",
     "output_type": "stream",
     "text": [
      "練習部分\n",
      "Accuracy: 98.13% Recall: 94.88% Precision: 96.29%\n"
     ]
    }
   ],
   "source": [
    "print('練習部分')\n",
    "print('Accuracy:','{:.2%}'.format(accuracy) , 'Recall:','{:.2%}'.format(recall) , 'Precision:','{:.2%}'.format(precision))"
   ]
  },
  {
   "cell_type": "markdown",
   "metadata": {},
   "source": [
    "---"
   ]
  },
  {
   "cell_type": "markdown",
   "metadata": {},
   "source": [
    "## 依照只是轉換number output format"
   ]
  },
  {
   "cell_type": "code",
   "execution_count": 102,
   "metadata": {},
   "outputs": [],
   "source": [
    "number = 3.1415926"
   ]
  },
  {
   "cell_type": "markdown",
   "metadata": {},
   "source": [
    "#### 轉換為科學符號表示法 (小數點後兩位)"
   ]
  },
  {
   "cell_type": "code",
   "execution_count": 110,
   "metadata": {},
   "outputs": [
    {
     "name": "stdout",
     "output_type": "stream",
     "text": [
      "練習部分\n",
      "3.14e+00\n"
     ]
    }
   ],
   "source": [
    "print('練習部分')\n",
    "print(\"%.2e\" % number)"
   ]
  },
  {
   "cell_type": "markdown",
   "metadata": {},
   "source": [
    "#### 轉換為%"
   ]
  },
  {
   "cell_type": "code",
   "execution_count": 111,
   "metadata": {},
   "outputs": [
    {
     "name": "stdout",
     "output_type": "stream",
     "text": [
      "練習部分\n",
      "314.16%\n"
     ]
    }
   ],
   "source": [
    "print('練習部分')\n",
    "print('{:.2%}'.format(number))"
   ]
  },
  {
   "cell_type": "markdown",
   "metadata": {},
   "source": [
    "#### 補零成為3.14159300"
   ]
  },
  {
   "cell_type": "code",
   "execution_count": 121,
   "metadata": {},
   "outputs": [
    {
     "name": "stdout",
     "output_type": "stream",
     "text": [
      "練習部分\n",
      "3.14159300\n"
     ]
    }
   ],
   "source": [
    "print('練習部分')\n",
    "\n",
    "# print('{:0<10}'.format(number))\n",
    "\n",
    "number1 = '{:.6f}'.format(number)\n",
    "print('{:0<10}'.format(number1))"
   ]
  },
  {
   "cell_type": "code",
   "execution_count": null,
   "metadata": {},
   "outputs": [],
   "source": []
  }
 ],
 "metadata": {
  "kernelspec": {
   "display_name": "Python 3",
   "language": "python",
   "name": "python3"
  },
  "language_info": {
   "codemirror_mode": {
    "name": "ipython",
    "version": 3
   },
   "file_extension": ".py",
   "mimetype": "text/x-python",
   "name": "python",
   "nbconvert_exporter": "python",
   "pygments_lexer": "ipython3",
   "version": "3.7.4"
  }
 },
 "nbformat": 4,
 "nbformat_minor": 2
}
